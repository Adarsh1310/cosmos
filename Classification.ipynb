{
  "nbformat": 4,
  "nbformat_minor": 0,
  "metadata": {
    "colab": {
      "name": "Classification.ipynb",
      "provenance": []
    },
    "kernelspec": {
      "name": "python3",
      "display_name": "Python 3"
    }
  },
  "cells": [
    {
      "cell_type": "code",
      "metadata": {
        "id": "tsj2BlGpyqXY",
        "colab": {
          "base_uri": "https://localhost:8080/",
          "height": 378
        },
        "outputId": "12c9cc2d-3377-4883-8115-9b82313572bd"
      },
      "source": [
        "import pandas\n",
        "from sklearn.neighbors import KNeighborsClassifier\n",
        "from sklearn.impute import SimpleImputer\n",
        "from sklearn.preprocessing import MinMaxScaler\n",
        "import numpy\n",
        "import matplotlib.pyplot as plt\n",
        "import seaborn as sns\n",
        "train=pandas.read_csv('iith_foml_2020_train.csv')\n",
        "cols = train.columns[train.isnull().mean()>0.5]\n",
        "train=train.drop(cols, axis=1)\n",
        "test=pandas.read_csv('iith_foml_2020_test.csv')\n",
        "trainy=train['Target Variable (Discrete)']\n",
        "trainx=train.drop(columns=['Target Variable (Discrete)'])\n",
        "test=test.drop(['Feature 16','Feature 17'],axis=1)\n",
        "trainx.fillna(trainx.mean(), inplace=True)\n",
        "test.fillna(test.mean(),inplace=True)\n",
        "sns.heatmap(trainx.isnull(),yticklabels=False,cbar=False)"
      ],
      "execution_count": 109,
      "outputs": [
        {
          "output_type": "execute_result",
          "data": {
            "text/plain": [
              "<matplotlib.axes._subplots.AxesSubplot at 0x7fc24b04f5f8>"
            ]
          },
          "metadata": {
            "tags": []
          },
          "execution_count": 109
        },
        {
          "output_type": "display_data",
          "data": {
            "image/png": "[encoded data removed]",
            "text/plain": [
              "<Figure size 432x288 with 1 Axes>"
            ]
          },
          "metadata": {
            "tags": [],
            "needs_background": "light"
          }
        }
      ]
    },
    {
      "cell_type": "code",
      "metadata": {
        "id": "VWpCqZTAPKQw",
        "colab": {
          "base_uri": "https://localhost:8080/"
        },
        "outputId": "46981630-39c1-47c2-e9d3-23589e27254d"
      },
      "source": [
        "from sklearn import tree\n",
        "clf = tree.DecisionTreeClassifier()\n",
        "clf = clf.fit(trainx, trainy)\n",
        "abcd=clf.predict(test)\n",
        "print(abcd)\n",
        "fa = pandas.DataFrame(data = abcd,columns = columns) \n",
        "fa.to_csv('output_tree1.csv') "
      ],
      "execution_count": 110,
      "outputs": [
        {
          "output_type": "stream",
          "text": [
            "[ 6  2  1  1  1  2  1  5  1  0  1  6  0  1  2  0  1  1  1  1  5  5  1  1\n",
            "  0  0  6  0  1  0 13  1  1  6  1  0  6  0  0  8  0  1  1  1  0  4  1  0\n",
            "  6  1  1  1  1  1  1  1  6  2  0  0  1  1  1  6  1  1  2  2  1  2  1  2\n",
            "  1  1  6  1  1  1  1  1  5  1  0  4  6  0  1  1  1  1  1  0  2  1  1  1\n",
            "  0  1  2  0  1  7  9  1  1  1  1 10  0  2  1  0  0  0  7  6  7  1  2  1\n",
            "  0  1  1  1  6  1  1  1  2  1  1  1  1  0  0  2  2  2  1  0  0  1  0  2\n",
            "  1  1  6  4  2  9  1  1  6  1  1  1  1  0  1  1  0  1  0  0  8  1  0  0\n",
            "  0  1  0  0  1  1  1  1  1  1  0  0  2  1  1  1  2  1  1 15  0  1  5  0\n",
            "  0  6  1  1  0  2  1  1  1  0  1  6  1  1  1  0  1  2  0  2  0  0  1  1\n",
            "  1  0  1  1  1  1  0  1  1  6  1  1  0  1  2  1  1  1  1  0  2  1  0  0\n",
            "  0  1  1  0  6  5  1  6  0  1  7  2  1  1  1 15  0  7  0  1  6  1  1  0\n",
            "  0  0  0  0  0  0  0  0  1  2  5  6  0  7  1  1  1  1  1  5  5  1  2  1\n",
            "  0  1  0  1  1  6  0  5  0  1 14  2  1  1  1  1  2  1  1  1  6  1  1  1\n",
            "  2  0  1  1  5  2  2  1  1  1  0  0  1  0  1  0  3  1  2  0  1  1  1  1\n",
            "  1  1  1  1  0  1  1  1  0  2  0  0  1  1  1  1  2  2  1  2  0  6  2  6\n",
            "  2  1  2  0  6  0  1  0  1  0  1  1  1  1  0  1  1  2  0  1  5  1  2  1\n",
            "  1  0  5  1  1  2  1  0  0  2  1  1  5  1  1  2  1  1  6  2  2  0  1  1\n",
            "  1  1  1  1  2  1  1  1  0  5  0  1  9  1  1  1  1  1]\n"
          ],
          "name": "stdout"
        }
      ]
    },
    {
      "cell_type": "code",
      "metadata": {
        "id": "8BbMJSKFm_Sm"
      },
      "source": [
        ""
      ],
      "execution_count": null,
      "outputs": []
    }
  ]
}
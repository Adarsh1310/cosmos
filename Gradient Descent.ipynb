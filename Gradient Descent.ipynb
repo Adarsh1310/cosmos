{
 "cells": [
  {
   "cell_type": "code",
   "execution_count": 8,
   "metadata": {},
   "outputs": [
    {
     "name": "stdout",
     "output_type": "stream",
     "text": [
      "[[8.99999991]\n",
      " [4.00000004]]\n"
     ]
    }
   ],
   "source": [
    "import numpy as np\n",
    "import math\n",
    "import matplotlib.pyplot as plt\n",
    "from numpy import linalg as LA\n",
    "X = np.array([[1,-1],[1,1],[1,2]])        \n",
    "Y = np.array([[7],[7],[21]])          \n",
    "Theta = np.zeros(shape = (2,1),dtype=np.int) \n",
    "alpha = 0.01                                                         \n",
    "Epsilon = 28                                                          \n",
    "J = (1/2)*np.matmul((np.matmul(X,Theta)-Y).T,(np.matmul(X,Theta)-Y))    \n",
    "while (J>=Epsilon):\n",
    "  Grad_J = np.matmul(np.matmul(X.T,X),Theta)-np.matmul(X.T,Y)          \n",
    "  Theta = Theta - alpha*Grad_J                                          \n",
    "  J = (1/2)*np.matmul((np.matmul(X,Theta)-Y).T,(np.matmul(X,Theta)-Y))  \n",
    "print(Theta)\n",
    "\n"
   ]
  }
 ],
 "metadata": {
  "kernelspec": {
   "display_name": "Python 3",
   "language": "python",
   "name": "python3"
  },
  "language_info": {
   "codemirror_mode": {
    "name": "ipython",
    "version": 3
   },
   "file_extension": ".py",
   "mimetype": "text/x-python",
   "name": "python",
   "nbconvert_exporter": "python",
   "pygments_lexer": "ipython3",
   "version": "3.8.3"
  }
 },
 "nbformat": 4,
 "nbformat_minor": 4
}
